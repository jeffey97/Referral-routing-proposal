{
 "cells": [
  {
   "cell_type": "code",
   "execution_count": 1,
   "metadata": {},
   "outputs": [
    {
     "name": "stdout",
     "output_type": "stream",
     "text": [
      "Mean Squared Error: 156.25\n",
      "Mean Absolute Error: 12.5\n"
     ]
    }
   ],
   "source": [
    "import pandas as pd\n",
    "from sklearn.ensemble import RandomForestRegressor\n",
    "from sklearn.model_selection import train_test_split\n",
    "from sklearn.metrics import mean_absolute_error, mean_squared_error\n",
    "\n",
    "# Example dataset: features and target (wait times)\n",
    "data = pd.DataFrame({\n",
    "    \"CapacityUtilization\": [0.8, 0.6, 0.9, 0.4],  # Hospital capacity utilization as a ratio\n",
    "    \"DayOfWeek\": [1, 3, 4, 5],  # Numerical encoding for days of the week\n",
    "    \"HistoricalWaitTime\": [30, 45, 20, 60],  # Historical average wait times (minutes)\n",
    "    \"WaitTime\": [35, 50, 25, 55]  # Actual observed wait times (target variable)\n",
    "})\n",
    "\n",
    "# Features and target variable\n",
    "features = data[[\"CapacityUtilization\", \"DayOfWeek\", \"HistoricalWaitTime\"]]\n",
    "target = data[\"WaitTime\"]\n",
    "\n",
    "# Split data into training and testing sets\n",
    "X_train, X_test, y_train, y_test = train_test_split(features, target, test_size=0.2, random_state=42)\n",
    "\n",
    "# Initialize and train the Random Forest Regressor\n",
    "rf_model = RandomForestRegressor(n_estimators=100, random_state=42)\n",
    "rf_model.fit(X_train, y_train)\n",
    "\n",
    "# Make predictions on the test set\n",
    "predictions = rf_model.predict(X_test)\n",
    "\n",
    "# Evaluate model performance\n",
    "mse = mean_squared_error(y_test, predictions)  # Mean Squared Error\n",
    "mae = mean_absolute_error(y_test, predictions)  # Mean Absolute Error\n",
    "\n",
    "# Output evaluation metrics\n",
    "print(\"Mean Squared Error:\", mse)\n",
    "print(\"Mean Absolute Error:\", mae)\n"
   ]
  }
 ],
 "metadata": {
  "kernelspec": {
   "display_name": "base",
   "language": "python",
   "name": "python3"
  },
  "language_info": {
   "codemirror_mode": {
    "name": "ipython",
    "version": 3
   },
   "file_extension": ".py",
   "mimetype": "text/x-python",
   "name": "python",
   "nbconvert_exporter": "python",
   "pygments_lexer": "ipython3",
   "version": "3.12.7"
  }
 },
 "nbformat": 4,
 "nbformat_minor": 2
}
