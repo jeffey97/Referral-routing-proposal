{
 "cells": [
  {
   "cell_type": "code",
   "execution_count": 1,
   "metadata": {},
   "outputs": [
    {
     "name": "stdout",
     "output_type": "stream",
     "text": [
      "\n",
      "Updated Assignments:\n",
      "   PatientID  AssignedHospital  Urgency\n",
      "0          1                 1    False\n",
      "1          2                 2     True\n",
      "2          3                 1    False\n"
     ]
    }
   ],
   "source": [
    "import pandas as pd\n",
    "import numpy as np\n",
    "\n",
    "# Example assignments of patients to hospitals\n",
    "assignments = pd.DataFrame({\n",
    "    \"PatientID\": [1, 2, 3],\n",
    "    \"AssignedHospital\": [1, 2, 1],\n",
    "    \"Urgency\": [False, True, False]\n",
    "})\n",
    "\n",
    "# Simulated combined hospital data\n",
    "combined_data = pd.DataFrame({\n",
    "    \"HospitalID\": [1, 2, 3],\n",
    "    \"CurrentLoad\": [20, 15, 10],\n",
    "    \"Capacity\": [25, 20, 15],\n",
    "    \"Location\": [(43.7, -79.4), (43.8, -79.3), (43.9, -79.2)]  # Latitude, Longitude\n",
    "})\n",
    "\n",
    "# Simulated patient data\n",
    "patient_data = pd.DataFrame({\n",
    "    \"PatientID\": [1, 2, 3],\n",
    "    \"Location\": [(43.6, -79.5), (43.75, -79.35), (43.9, -79.4)]  # Latitude, Longitude\n",
    "})\n",
    "\n",
    "# Function to calculate distance (e.g., Haversine formula or simple Euclidean for demo)\n",
    "def calculate_distance(loc1, loc2):\n",
    "    return np.sqrt((loc1[0] - loc2[0])**2 + (loc1[1] - loc2[1])**2)\n",
    "\n",
    "# Identify urgent patients\n",
    "urgent_patients = assignments[assignments[\"Urgency\"]]\n",
    "\n",
    "# Rerouting urgent patients\n",
    "for index, row in urgent_patients.iterrows():\n",
    "    patient_id = row[\"PatientID\"]\n",
    "    patient_loc = patient_data.loc[patient_data[\"PatientID\"] == patient_id, \"Location\"].values[0]\n",
    "    \n",
    "    # Filter hospitals with available capacity\n",
    "    available_hospitals = combined_data[combined_data[\"CurrentLoad\"] < combined_data[\"Capacity\"]]\n",
    "    \n",
    "    if not available_hospitals.empty:\n",
    "        # Calculate distances to available hospitals\n",
    "        available_hospitals[\"Distance\"] = available_hospitals[\"Location\"].apply(\n",
    "            lambda hospital_loc: calculate_distance(patient_loc, hospital_loc)\n",
    "        )\n",
    "        # Select the nearest hospital\n",
    "        nearest_hospital = available_hospitals.loc[available_hospitals[\"Distance\"].idxmin()]\n",
    "        # Update assignment\n",
    "        assignments.loc[index, \"AssignedHospital\"] = nearest_hospital[\"HospitalID\"]\n",
    "        # Update hospital load in real-time\n",
    "        combined_data.loc[combined_data[\"HospitalID\"] == nearest_hospital[\"HospitalID\"], \"CurrentLoad\"] += 1\n",
    "\n",
    "# Display updated assignments\n",
    "print(\"\\nUpdated Assignments:\")\n",
    "print(assignments)\n"
   ]
  }
 ],
 "metadata": {
  "kernelspec": {
   "display_name": "base",
   "language": "python",
   "name": "python3"
  },
  "language_info": {
   "codemirror_mode": {
    "name": "ipython",
    "version": 3
   },
   "file_extension": ".py",
   "mimetype": "text/x-python",
   "name": "python",
   "nbconvert_exporter": "python",
   "pygments_lexer": "ipython3",
   "version": "3.12.7"
  }
 },
 "nbformat": 4,
 "nbformat_minor": 2
}
