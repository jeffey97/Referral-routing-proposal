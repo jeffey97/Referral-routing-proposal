{
 "cells": [
  {
   "cell_type": "code",
   "execution_count": 1,
   "metadata": {},
   "outputs": [
    {
     "name": "stdout",
     "output_type": "stream",
     "text": [
      "Sample Patients Data:\n",
      "   PatientID  Age  Gender Urgency    Symptoms  \\\n",
      "0          1   56    Male  Medium  Chest Pain   \n",
      "1          2   69  Female  Medium       Fever   \n",
      "2          3   46  Female  Medium    Headache   \n",
      "3          4   32    Male  Medium  Chest Pain   \n",
      "4          5   60  Female    High    Headache   \n",
      "\n",
      "                                   Location  Insurance  \n",
      "0   (-79.49485166945047, 43.75267288460078)    Insured  \n",
      "1   (-79.25792610688477, 43.66926086421788)    Insured  \n",
      "2  (-79.36059785611812, 43.729954736528555)    Insured  \n",
      "3   (-79.4855823227409, 43.789829146318276)    Insured  \n",
      "4  (-79.23399588381059, 43.652178724668346)  Uninsured  \n",
      "\n",
      "Sample Hospitals Data:\n",
      "   HospitalID        Name  Capacity   Specializations  \\\n",
      "0           1  Hospital A        11            Trauma   \n",
      "1           2  Hospital B         9        Pediatrics   \n",
      "2           3  Hospital C        14         Neurology   \n",
      "3           4  Hospital D        11  General Medicine   \n",
      "4           5  Hospital E        13        Cardiology   \n",
      "\n",
      "                                  Location  CurrentLoad   Ratings  \n",
      "0  (-79.33939933079535, 43.64664328230996)            7  3.674894  \n",
      "1  (-79.39712194071652, 43.69479398828611)            0  4.799295  \n",
      "2  (-79.3934687090162, 43.729764568058314)            2  4.215110  \n",
      "3  (-79.35612536947373, 43.71683989694283)            9  3.488706  \n",
      "4  (-79.27895325738153, 43.71154845319008)            8  3.996495  \n"
     ]
    }
   ],
   "source": [
    "import pandas as pd\n",
    "import numpy as np\n",
    "\n",
    "# Seed for reproducibility\n",
    "np.random.seed(42)\n",
    "\n",
    "# Number of patients and hospitals\n",
    "n_patients = 100\n",
    "n_hospitals = 5\n",
    "\n",
    "# Create synthetic patient data\n",
    "patients = pd.DataFrame({\n",
    "    \"PatientID\": range(1, n_patients + 1),\n",
    "    \"Age\": np.random.randint(18, 80, n_patients),  # Patient ages between 18 and 80\n",
    "    \"Gender\": np.random.choice([\"Male\", \"Female\"], n_patients, p=[0.5, 0.5]),  # Gender distribution\n",
    "    \"Urgency\": np.random.choice([\"High\", \"Medium\", \"Low\"], n_patients, p=[0.2, 0.5, 0.3]),  # Urgency level\n",
    "    \"Symptoms\": np.random.choice(\n",
    "        [\"Chest Pain\", \"Headache\", \"Fever\", \"Shortness of Breath\", \"Injury\"],\n",
    "        n_patients\n",
    "    ),  # Example symptoms\n",
    "    \"Location\": [(np.random.uniform(-79.5, -79.2), np.random.uniform(43.6, 43.8)) for _ in range(n_patients)],  # Random geolocations\n",
    "    \"Insurance\": np.random.choice([\"Insured\", \"Uninsured\"], n_patients, p=[0.7, 0.3])  # Insurance status\n",
    "})\n",
    "\n",
    "# Create synthetic hospital data\n",
    "hospitals = pd.DataFrame({\n",
    "    \"HospitalID\": range(1, n_hospitals + 1),\n",
    "    \"Name\": [f\"Hospital {chr(65 + i)}\" for i in range(n_hospitals)],  # Hospital names\n",
    "    \"Capacity\": np.random.randint(5, 15, n_hospitals),  # Random capacities\n",
    "    \"Specializations\": np.random.choice(\n",
    "        [\"Cardiology\", \"Neurology\", \"General Medicine\", \"Pediatrics\", \"Trauma\"],\n",
    "        n_hospitals, replace=False  # Unique specializations\n",
    "    ),\n",
    "    \"Location\": [(np.random.uniform(-79.5, -79.2), np.random.uniform(43.6, 43.8)) for _ in range(n_hospitals)],  # Random geolocations\n",
    "    \"CurrentLoad\": np.random.randint(0, 10, n_hospitals),  # Random current patient load\n",
    "    \"Ratings\": np.random.uniform(3.0, 5.0, n_hospitals)  # Random hospital ratings\n",
    "})\n",
    "\n",
    "# Display a sample of the generated datasets\n",
    "print(\"Sample Patients Data:\")\n",
    "print(patients.head())\n",
    "\n",
    "print(\"\\nSample Hospitals Data:\")\n",
    "print(hospitals.head())\n"
   ]
  }
 ],
 "metadata": {
  "kernelspec": {
   "display_name": "base",
   "language": "python",
   "name": "python3"
  },
  "language_info": {
   "codemirror_mode": {
    "name": "ipython",
    "version": 3
   },
   "file_extension": ".py",
   "mimetype": "text/x-python",
   "name": "python",
   "nbconvert_exporter": "python",
   "pygments_lexer": "ipython3",
   "version": "3.12.7"
  }
 },
 "nbformat": 4,
 "nbformat_minor": 2
}
