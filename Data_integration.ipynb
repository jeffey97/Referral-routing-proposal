{
 "cells": [
  {
   "cell_type": "code",
   "execution_count": 1,
   "metadata": {},
   "outputs": [
    {
     "name": "stdout",
     "output_type": "stream",
     "text": [
      "No missing values detected.\n",
      "\n",
      "Integrated and Processed Hospital Data:\n",
      "   HospitalID  CurrentLoad  Capacity  ScannerAvailability  AverageWaitTime  \\\n",
      "0           1           37        84                    1               52   \n",
      "1           2           13        76                    1               49   \n",
      "2           3           31        74                    1               36   \n",
      "3           4           40        64                    1               42   \n",
      "4           5           35        94                    1               28   \n",
      "\n",
      "   HistoricalCapacityUtilization  CurrentCapacityUtilization  LoadDifference  \\\n",
      "0                       0.752534                    0.440476      -26.212819   \n",
      "1                       0.641180                    0.171053      -35.729693   \n",
      "2                       0.790991                    0.418919      -27.533309   \n",
      "3                       0.841313                    0.625000      -13.844062   \n",
      "4                       0.813849                    0.372340      -41.501841   \n",
      "\n",
      "   WeightedWaitTime  NormalizedWaitTime  \n",
      "0         74.904762            1.000000  \n",
      "1         57.381579            0.519639  \n",
      "2         51.081081            0.346925  \n",
      "3         68.250000            0.817574  \n",
      "4         38.425532            0.000000  \n"
     ]
    }
   ],
   "source": [
    "import pandas as pd\n",
    "import numpy as np\n",
    "\n",
    "# Simulating real-time hospital data feed\n",
    "real_time_data = pd.DataFrame({\n",
    "    \"HospitalID\": range(1, 6),\n",
    "    \"CurrentLoad\": np.random.randint(10, 50, 5),  # Current number of patients\n",
    "    \"Capacity\": np.random.randint(50, 100, 5),  # Maximum hospital capacity\n",
    "    \"ScannerAvailability\": np.random.choice([0, 1], size=5, p=[0.2, 0.8])  # Whether scanners are available\n",
    "})\n",
    "\n",
    "# Simulating historical wait time data\n",
    "historical_data = pd.DataFrame({\n",
    "    \"HospitalID\": range(1, 6),\n",
    "    \"AverageWaitTime\": np.random.randint(20, 60, 5),  # Average historical wait times (in minutes)\n",
    "    \"HistoricalCapacityUtilization\": np.random.uniform(0.5, 0.9, 5)  # Historical utilization ratios\n",
    "})\n",
    "\n",
    "# Merging real-time and historical data\n",
    "combined_data = pd.merge(real_time_data, historical_data, on=\"HospitalID\")\n",
    "\n",
    "# Derived features\n",
    "combined_data[\"CurrentCapacityUtilization\"] = combined_data[\"CurrentLoad\"] / combined_data[\"Capacity\"]  # Utilization ratio\n",
    "combined_data[\"LoadDifference\"] = combined_data[\"CurrentLoad\"] - (combined_data[\"HistoricalCapacityUtilization\"] * combined_data[\"Capacity\"])  # Compare current to historical load\n",
    "combined_data[\"WeightedWaitTime\"] = combined_data[\"AverageWaitTime\"] * (1 + combined_data[\"CurrentCapacityUtilization\"])  # Adjusted wait time based on current utilization\n",
    "\n",
    "# Data validation\n",
    "if combined_data.isnull().values.any():\n",
    "    print(\"Data contains missing values. Please investigate:\")\n",
    "    print(combined_data.isnull().sum())\n",
    "else:\n",
    "    print(\"No missing values detected.\")\n",
    "\n",
    "# Handle outliers in CurrentCapacityUtilization\n",
    "# Replace outliers outside [0, 1.5] with the median\n",
    "utilization_median = combined_data[\"CurrentCapacityUtilization\"].median()\n",
    "combined_data[\"CurrentCapacityUtilization\"] = combined_data[\"CurrentCapacityUtilization\"].apply(\n",
    "    lambda x: x if 0 <= x <= 1.5 else utilization_median\n",
    ")\n",
    "\n",
    "# Normalize weighted wait time for comparison\n",
    "combined_data[\"NormalizedWaitTime\"] = (combined_data[\"WeightedWaitTime\"] - combined_data[\"WeightedWaitTime\"].min()) / \\\n",
    "                                      (combined_data[\"WeightedWaitTime\"].max() - combined_data[\"WeightedWaitTime\"].min())\n",
    "\n",
    "# Display integrated and processed data\n",
    "print(\"\\nIntegrated and Processed Hospital Data:\")\n",
    "print(combined_data)\n"
   ]
  }
 ],
 "metadata": {
  "kernelspec": {
   "display_name": "base",
   "language": "python",
   "name": "python3"
  },
  "language_info": {
   "codemirror_mode": {
    "name": "ipython",
    "version": 3
   },
   "file_extension": ".py",
   "mimetype": "text/x-python",
   "name": "python",
   "nbconvert_exporter": "python",
   "pygments_lexer": "ipython3",
   "version": "3.12.7"
  }
 },
 "nbformat": 4,
 "nbformat_minor": 2
}
