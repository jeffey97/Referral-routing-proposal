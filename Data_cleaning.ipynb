{
 "cells": [
  {
   "cell_type": "code",
   "execution_count": 3,
   "metadata": {},
   "outputs": [
    {
     "name": "stdout",
     "output_type": "stream",
     "text": [
      "Cleaned Hospital Data:\n",
      "   HospitalID  Capacity  Latitude  Longitude        Name   Region\n",
      "0           1     100.0      43.7      -79.4  Hospital A    South\n",
      "1           2      75.0      43.8      -79.5  Hospital B    South\n",
      "2           3      50.0      43.9      -79.3  Hospital C    South\n",
      "3           4      75.0      44.0      -79.6     Unknown  Central\n",
      "4           5      75.0      44.1      -79.2  Hospital E  Central\n"
     ]
    }
   ],
   "source": [
    "import pandas as pd\n",
    "from sklearn.impute import SimpleImputer\n",
    "\n",
    "# Example hospital data with missing capacities and other issues\n",
    "hospitals = pd.DataFrame({\n",
    "    \"HospitalID\": [1, 2, 3, 4, 5],\n",
    "    \"Capacity\": [100, None, 50, None, 75],\n",
    "    \"Latitude\": [43.7, 43.8, 43.9, 44.0, 44.1],\n",
    "    \"Longitude\": [-79.4, -79.5, -79.3, -79.6, -79.2],\n",
    "    \"Name\": [\"Hospital A\", \"Hospital B\", \"Hospital C\", None, \"Hospital E\"]\n",
    "})\n",
    "\n",
    "# 1. Impute missing capacities with mean\n",
    "imputer = SimpleImputer(strategy=\"mean\")\n",
    "hospitals[\"Capacity\"] = imputer.fit_transform(hospitals[[\"Capacity\"]])\n",
    "\n",
    "# 2. Handle missing or inconsistent hospital names\n",
    "# For missing names, replace with \"Unknown\"\n",
    "\n",
    "hospitals[\"Name\"] = hospitals[\"Name\"].fillna(\"Unknown\")\n",
    "\n",
    "# 3. Validate latitude and longitude values (e.g., ensuring they are within realistic ranges)\n",
    "def validate_coordinates(lat, lon):\n",
    "    if -90 <= lat <= 90 and -180 <= lon <= 180:\n",
    "        return lat, lon\n",
    "    return None, None\n",
    "\n",
    "hospitals[[\"Latitude\", \"Longitude\"]] = hospitals.apply(\n",
    "    lambda row: validate_coordinates(row[\"Latitude\"], row[\"Longitude\"]), axis=1, result_type=\"expand\"\n",
    ")\n",
    "\n",
    "# 4. Remove duplicates (if any) based on HospitalID\n",
    "hospitals = hospitals.drop_duplicates(subset=\"HospitalID\")\n",
    "\n",
    "# 5. Normalize the \"Name\" column (e.g., capitalize each word)\n",
    "hospitals[\"Name\"] = hospitals[\"Name\"].str.title()\n",
    "\n",
    "# 6. Add a derived column for regions based on latitude\n",
    "def determine_region(lat):\n",
    "    if lat < 44.0:\n",
    "        return \"South\"\n",
    "    elif 44.0 <= lat < 44.5:\n",
    "        return \"Central\"\n",
    "    else:\n",
    "        return \"North\"\n",
    "\n",
    "hospitals[\"Region\"] = hospitals[\"Latitude\"].apply(determine_region)\n",
    "\n",
    "# 7. Ensure HospitalID is unique and sorted\n",
    "hospitals = hospitals.sort_values(by=\"HospitalID\").reset_index(drop=True)\n",
    "\n",
    "# Final cleaned dataset\n",
    "print(\"Cleaned Hospital Data:\")\n",
    "print(hospitals)\n"
   ]
  }
 ],
 "metadata": {
  "kernelspec": {
   "display_name": "base",
   "language": "python",
   "name": "python3"
  },
  "language_info": {
   "codemirror_mode": {
    "name": "ipython",
    "version": 3
   },
   "file_extension": ".py",
   "mimetype": "text/x-python",
   "name": "python",
   "nbconvert_exporter": "python",
   "pygments_lexer": "ipython3",
   "version": "3.12.7"
  }
 },
 "nbformat": 4,
 "nbformat_minor": 2
}
