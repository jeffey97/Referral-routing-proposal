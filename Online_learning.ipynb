{
 "cells": [
  {
   "cell_type": "code",
   "execution_count": 1,
   "metadata": {},
   "outputs": [
    {
     "name": "stdout",
     "output_type": "stream",
     "text": [
      "Training Online Model with Data Stream:\n",
      "Step 1: True=35, Predicted=0.00, MAE=35.00\n",
      "Step 2: True=50, Predicted=0.70, MAE=42.15\n",
      "Step 3: True=25, Predicted=-0.61, MAE=36.64\n",
      "Step 4: True=55, Predicted=7.55, MAE=39.34\n",
      "\n",
      "Final Mean Absolute Error (MAE): 39.34157183474769\n",
      "\n",
      "Predicted Wait Time for New Data {'CapacityUtilization': 0.7, 'DayOfWeek': 2, 'HistoricalWaitTime': 40}: 0.80\n"
     ]
    }
   ],
   "source": [
    "from river import linear_model, preprocessing, metrics, optim\n",
    "\n",
    "# Initialize an online learning model\n",
    "# Using StandardScaler to scale input features and LinearRegression for the model\n",
    "model = preprocessing.StandardScaler() | linear_model.LinearRegression(optimizer=optim.SGD(0.01))  # Stochastic Gradient Descent\n",
    "metric = metrics.MAE()  # Mean Absolute Error as the evaluation metric\n",
    "\n",
    "# Simulated data stream (features and target values)\n",
    "data_stream = [\n",
    "    ({\"CapacityUtilization\": 0.8, \"DayOfWeek\": 1, \"HistoricalWaitTime\": 30}, 35),\n",
    "    ({\"CapacityUtilization\": 0.6, \"DayOfWeek\": 3, \"HistoricalWaitTime\": 45}, 50),\n",
    "    ({\"CapacityUtilization\": 0.9, \"DayOfWeek\": 4, \"HistoricalWaitTime\": 20}, 25),\n",
    "    ({\"CapacityUtilization\": 0.4, \"DayOfWeek\": 5, \"HistoricalWaitTime\": 60}, 55),\n",
    "]\n",
    "\n",
    "# Train incrementally using the data stream\n",
    "print(\"Training Online Model with Data Stream:\")\n",
    "for i, (x, y) in enumerate(data_stream):\n",
    "    y_pred = model.predict_one(x)  # Make a prediction\n",
    "    model.learn_one(x, y)  # Learn from the current data point\n",
    "    metric.update(y, y_pred)  # Update the evaluation metric\n",
    "    print(f\"Step {i + 1}: True={y}, Predicted={y_pred:.2f}, MAE={metric.get():.2f}\")\n",
    "\n",
    "# Final evaluation\n",
    "print(\"\\nFinal Mean Absolute Error (MAE):\", metric.get())\n",
    "\n",
    "# Use the trained model to predict on new data\n",
    "new_data = {\"CapacityUtilization\": 0.7, \"DayOfWeek\": 2, \"HistoricalWaitTime\": 40}\n",
    "predicted_wait_time = model.predict_one(new_data)\n",
    "print(f\"\\nPredicted Wait Time for New Data {new_data}: {predicted_wait_time:.2f}\")\n"
   ]
  }
 ],
 "metadata": {
  "kernelspec": {
   "display_name": "base",
   "language": "python",
   "name": "python3"
  },
  "language_info": {
   "codemirror_mode": {
    "name": "ipython",
    "version": 3
   },
   "file_extension": ".py",
   "mimetype": "text/x-python",
   "name": "python",
   "nbconvert_exporter": "python",
   "pygments_lexer": "ipython3",
   "version": "3.12.7"
  }
 },
 "nbformat": 4,
 "nbformat_minor": 2
}
